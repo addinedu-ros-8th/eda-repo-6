{
 "cells": [
  {
   "cell_type": "code",
   "execution_count": 2,
   "metadata": {},
   "outputs": [],
   "source": [
    "import mysql.connector as mysql\n",
    "import pandas as pd\n",
    "import folium\n",
    "import requests\n",
    "import googlemaps\n",
    "from geopy.distance import geodesic\n",
    "import numpy as np\n",
    "from tqdm import tqdm\n",
    "import folium\n",
    "import matplotlib.pyplot as plt\n",
    "import seaborn as sns\n",
    "import koreanize_matplotlib\n",
    "from matplotlib import font_manager\n",
    "from matplotlib import rc\n",
    "\n",
    "#database-1.c9ks828mszs7.ap-northeast-2.rds.amazonaws.com"
   ]
  },
  {
   "cell_type": "code",
   "execution_count": 3,
   "metadata": {},
   "outputs": [],
   "source": [
    "remote = mysql.connect (\n",
    "    host = \"database-1.c9ks828mszs7.ap-northeast-2.rds.amazonaws.com\",\n",
    "    port = 3306,\n",
    "    user = \"roschool\",\n",
    "    password = \"1234\",\n",
    "    database = \"roschool\"\n",
    ")"
   ]
  },
  {
   "cell_type": "markdown",
   "metadata": {},
   "source": [
    "# 중소기업"
   ]
  },
  {
   "cell_type": "code",
   "execution_count": 4,
   "metadata": {},
   "outputs": [
    {
     "data": {
      "text/html": [
       "<div>\n",
       "<style scoped>\n",
       "    .dataframe tbody tr th:only-of-type {\n",
       "        vertical-align: middle;\n",
       "    }\n",
       "\n",
       "    .dataframe tbody tr th {\n",
       "        vertical-align: top;\n",
       "    }\n",
       "\n",
       "    .dataframe thead th {\n",
       "        text-align: right;\n",
       "    }\n",
       "</style>\n",
       "<table border=\"1\" class=\"dataframe\">\n",
       "  <thead>\n",
       "    <tr style=\"text-align: right;\">\n",
       "      <th></th>\n",
       "      <th>0</th>\n",
       "      <th>1</th>\n",
       "      <th>2</th>\n",
       "    </tr>\n",
       "  </thead>\n",
       "  <tbody>\n",
       "    <tr>\n",
       "      <th>0</th>\n",
       "      <td>중소기업</td>\n",
       "      <td>C++</td>\n",
       "      <td>47</td>\n",
       "    </tr>\n",
       "    <tr>\n",
       "      <th>1</th>\n",
       "      <td>중소기업</td>\n",
       "      <td>Python</td>\n",
       "      <td>31</td>\n",
       "    </tr>\n",
       "    <tr>\n",
       "      <th>2</th>\n",
       "      <td>중소기업</td>\n",
       "      <td>C</td>\n",
       "      <td>29</td>\n",
       "    </tr>\n",
       "  </tbody>\n",
       "</table>\n",
       "</div>"
      ],
      "text/plain": [
       "      0       1   2\n",
       "0  중소기업     C++  47\n",
       "1  중소기업  Python  31\n",
       "2  중소기업       C  29"
      ]
     },
     "execution_count": 4,
     "metadata": {},
     "output_type": "execute_result"
    }
   ],
   "source": [
    "sme_cursor = remote.cursor(buffered=True)\n",
    "sme_cursor.execute(\"\"\"\n",
    "               \n",
    "    SELECT type, tech_name, count(tech_name) cnt from\n",
    "(select type, re.recruit_id, tech_name\n",
    "from tech_info te, essential_tech es, recruit_info re, company_info co, comp_type ct\n",
    "where es.recruit_id = re.recruit_id and\n",
    "es.tech_id = te.tech_id and\n",
    "re.comp_name_id = comp_id and\n",
    "ct.comp_type_id = co.comp_type_id) i\n",
    "GROUP by type, tech_name\n",
    "HAVING type = '중소기업'\n",
    "ORDER BY cnt DESC \n",
    "limit 3\n",
    "\n",
    "\"\"\")\n",
    "sme_result = sme_cursor.fetchall()\n",
    "\n",
    "sme_df = pd.DataFrame(sme_result)\n",
    "\n",
    "# df.columns = [\"경력\", \"평균연봉(만)\"]\n",
    "\n",
    "sme_df"
   ]
  },
  {
   "cell_type": "code",
   "execution_count": 28,
   "metadata": {},
   "outputs": [],
   "source": [
    "sme_df.columns = [\"기업분류\", \"기술\", \"수\"]"
   ]
  },
  {
   "cell_type": "code",
   "execution_count": 30,
   "metadata": {},
   "outputs": [
    {
     "data": {
      "image/png": "[encoded data removed]",
      "text/plain": [
       "<Figure size 640x480 with 1 Axes>"
      ]
     },
     "metadata": {},
     "output_type": "display_data"
    }
   ],
   "source": [
    "labels = sme_df[\"기술\"]\n",
    "sizes = sme_df[\"수\"]\n",
    "colors = ['#ff9999', '#ffc000', '#8fd9b6', '#d395d0', '#2E7B26'][:len(labels)]  # 색상 지정\n",
    "\n",
    "# 도넛 파이 차트 생성\n",
    "fig, ax = plt.subplots()\n",
    "ax.pie(sizes, labels=labels, colors=colors, startangle=90, autopct='%1.1f%%', pctdistance=0.85)\n",
    "\n",
    "# 도넛 중앙에 빈 공간 추가\n",
    "centre_circle = plt.Circle((0, 0), 0.70, fc='white')\n",
    "fig.gca().add_artist(centre_circle)\n",
    "\n",
    "# 제목 추가\n",
    "ax.set_title(\"중소기업\")\n",
    "\n",
    "# 레이아웃 조정\n",
    "plt.tight_layout()\n",
    "plt.show()\n"
   ]
  },
  {
   "cell_type": "markdown",
   "metadata": {},
   "source": [
    "# 스타트업"
   ]
  },
  {
   "cell_type": "code",
   "execution_count": 5,
   "metadata": {},
   "outputs": [
    {
     "data": {
      "text/html": [
       "<div>\n",
       "<style scoped>\n",
       "    .dataframe tbody tr th:only-of-type {\n",
       "        vertical-align: middle;\n",
       "    }\n",
       "\n",
       "    .dataframe tbody tr th {\n",
       "        vertical-align: top;\n",
       "    }\n",
       "\n",
       "    .dataframe thead th {\n",
       "        text-align: right;\n",
       "    }\n",
       "</style>\n",
       "<table border=\"1\" class=\"dataframe\">\n",
       "  <thead>\n",
       "    <tr style=\"text-align: right;\">\n",
       "      <th></th>\n",
       "      <th>0</th>\n",
       "      <th>1</th>\n",
       "      <th>2</th>\n",
       "    </tr>\n",
       "  </thead>\n",
       "  <tbody>\n",
       "    <tr>\n",
       "      <th>0</th>\n",
       "      <td>스타트업</td>\n",
       "      <td>C++</td>\n",
       "      <td>5</td>\n",
       "    </tr>\n",
       "    <tr>\n",
       "      <th>1</th>\n",
       "      <td>스타트업</td>\n",
       "      <td>C#</td>\n",
       "      <td>3</td>\n",
       "    </tr>\n",
       "    <tr>\n",
       "      <th>2</th>\n",
       "      <td>스타트업</td>\n",
       "      <td>C</td>\n",
       "      <td>3</td>\n",
       "    </tr>\n",
       "  </tbody>\n",
       "</table>\n",
       "</div>"
      ],
      "text/plain": [
       "      0    1  2\n",
       "0  스타트업  C++  5\n",
       "1  스타트업   C#  3\n",
       "2  스타트업    C  3"
      ]
     },
     "execution_count": 5,
     "metadata": {},
     "output_type": "execute_result"
    }
   ],
   "source": [
    "start_cursor = remote.cursor(buffered=True)\n",
    "start_cursor.execute(\"\"\"\n",
    "               \n",
    "    SELECT type, tech_name, count(tech_name) cnt from\n",
    "(select type, re.recruit_id, tech_name\n",
    "from tech_info te, essential_tech es, recruit_info re, company_info co, comp_type ct\n",
    "where es.recruit_id = re.recruit_id and\n",
    "es.tech_id = te.tech_id and\n",
    "re.comp_name_id = comp_id and\n",
    "ct.comp_type_id = co.comp_type_id) i\n",
    "GROUP by type, tech_name\n",
    "HAVING type = '스타트업'\n",
    "ORDER BY cnt DESC \n",
    "limit 3\n",
    "\n",
    "\"\"\")\n",
    "start_result = start_cursor.fetchall()\n",
    "\n",
    "start_df = pd.DataFrame(start_result)\n",
    "\n",
    "# df.columns = [\"경력\", \"평균연봉(만)\"]\n",
    "\n",
    "start_df"
   ]
  },
  {
   "cell_type": "code",
   "execution_count": 25,
   "metadata": {},
   "outputs": [],
   "source": [
    "start_df.columns = [\"기업분류\", \"기술\", \"수\"]"
   ]
  },
  {
   "cell_type": "code",
   "execution_count": 27,
   "metadata": {},
   "outputs": [
    {
     "data": {
      "image/png": "[encoded data removed]",
      "text/plain": [
       "<Figure size 640x480 with 1 Axes>"
      ]
     },
     "metadata": {},
     "output_type": "display_data"
    }
   ],
   "source": [
    "labels = start_df[\"기술\"]\n",
    "sizes = start_df[\"수\"]\n",
    "colors = ['#ff9999', '#ffc000', '#8fd9b6', '#d395d0', '#2E7B26'][:len(labels)]  # 색상 지정\n",
    "\n",
    "# 도넛 파이 차트 생성\n",
    "fig, ax = plt.subplots()\n",
    "ax.pie(sizes, labels=labels, colors=colors, startangle=90, autopct='%1.1f%%', pctdistance=0.85)\n",
    "\n",
    "# 도넛 중앙에 빈 공간 추가\n",
    "centre_circle = plt.Circle((0, 0), 0.70, fc='white')\n",
    "fig.gca().add_artist(centre_circle)\n",
    "\n",
    "# 제목 추가\n",
    "ax.set_title(\"스타트업\")\n",
    "\n",
    "# 레이아웃 조정\n",
    "plt.tight_layout()\n",
    "plt.show()\n"
   ]
  },
  {
   "cell_type": "markdown",
   "metadata": {},
   "source": [
    "# 벤처기업"
   ]
  },
  {
   "cell_type": "code",
   "execution_count": 6,
   "metadata": {},
   "outputs": [
    {
     "data": {
      "text/html": [
       "<div>\n",
       "<style scoped>\n",
       "    .dataframe tbody tr th:only-of-type {\n",
       "        vertical-align: middle;\n",
       "    }\n",
       "\n",
       "    .dataframe tbody tr th {\n",
       "        vertical-align: top;\n",
       "    }\n",
       "\n",
       "    .dataframe thead th {\n",
       "        text-align: right;\n",
       "    }\n",
       "</style>\n",
       "<table border=\"1\" class=\"dataframe\">\n",
       "  <thead>\n",
       "    <tr style=\"text-align: right;\">\n",
       "      <th></th>\n",
       "      <th>0</th>\n",
       "      <th>1</th>\n",
       "      <th>2</th>\n",
       "    </tr>\n",
       "  </thead>\n",
       "  <tbody>\n",
       "    <tr>\n",
       "      <th>0</th>\n",
       "      <td>벤처기업</td>\n",
       "      <td>C++</td>\n",
       "      <td>30</td>\n",
       "    </tr>\n",
       "    <tr>\n",
       "      <th>1</th>\n",
       "      <td>벤처기업</td>\n",
       "      <td>Python</td>\n",
       "      <td>16</td>\n",
       "    </tr>\n",
       "    <tr>\n",
       "      <th>2</th>\n",
       "      <td>벤처기업</td>\n",
       "      <td>ROS</td>\n",
       "      <td>14</td>\n",
       "    </tr>\n",
       "  </tbody>\n",
       "</table>\n",
       "</div>"
      ],
      "text/plain": [
       "      0       1   2\n",
       "0  벤처기업     C++  30\n",
       "1  벤처기업  Python  16\n",
       "2  벤처기업     ROS  14"
      ]
     },
     "execution_count": 6,
     "metadata": {},
     "output_type": "execute_result"
    }
   ],
   "source": [
    "venture_cursor = remote.cursor(buffered=True)\n",
    "venture_cursor.execute(\"\"\"\n",
    "               \n",
    "    SELECT type, tech_name, count(tech_name) cnt from\n",
    "(select type, re.recruit_id, tech_name\n",
    "from tech_info te, essential_tech es, recruit_info re, company_info co, comp_type ct\n",
    "where es.recruit_id = re.recruit_id and\n",
    "es.tech_id = te.tech_id and\n",
    "re.comp_name_id = comp_id and\n",
    "ct.comp_type_id = co.comp_type_id) i\n",
    "GROUP by type, tech_name\n",
    "HAVING type = '벤처기업'\n",
    "ORDER BY cnt DESC \n",
    "limit 3\n",
    "\n",
    "\"\"\")\n",
    "venture_result = venture_cursor.fetchall()\n",
    "\n",
    "venture_df = pd.DataFrame(venture_result)\n",
    "\n",
    "# df.columns = [\"경력\", \"평균연봉(만)\"]\n",
    "\n",
    "venture_df"
   ]
  },
  {
   "cell_type": "code",
   "execution_count": 22,
   "metadata": {},
   "outputs": [],
   "source": [
    "venture_df.columns = [\"기업분류\", \"기술\", \"수\"]"
   ]
  },
  {
   "cell_type": "code",
   "execution_count": 24,
   "metadata": {},
   "outputs": [
    {
     "data": {
      "image/png": "[encoded data removed]",
      "text/plain": [
       "<Figure size 640x480 with 1 Axes>"
      ]
     },
     "metadata": {},
     "output_type": "display_data"
    }
   ],
   "source": [
    "labels = venture_df[\"기술\"]\n",
    "sizes = venture_df[\"수\"]\n",
    "colors = ['#ff9999', '#ffc000', '#8fd9b6', '#d395d0', '#2E7B26'][:len(labels)]  # 색상 지정\n",
    "\n",
    "# 도넛 파이 차트 생성\n",
    "fig, ax = plt.subplots()\n",
    "ax.pie(sizes, labels=labels, colors=colors, startangle=90, autopct='%1.1f%%', pctdistance=0.85)\n",
    "\n",
    "# 도넛 중앙에 빈 공간 추가\n",
    "centre_circle = plt.Circle((0, 0), 0.70, fc='white')\n",
    "fig.gca().add_artist(centre_circle)\n",
    "\n",
    "# 제목 추가\n",
    "ax.set_title(\"벤쳐기업\")\n",
    "\n",
    "# 레이아웃 조정\n",
    "plt.tight_layout()\n",
    "plt.show()\n"
   ]
  },
  {
   "cell_type": "markdown",
   "metadata": {},
   "source": [
    "# 강소기업"
   ]
  },
  {
   "cell_type": "code",
   "execution_count": 8,
   "metadata": {},
   "outputs": [
    {
     "data": {
      "text/html": [
       "<div>\n",
       "<style scoped>\n",
       "    .dataframe tbody tr th:only-of-type {\n",
       "        vertical-align: middle;\n",
       "    }\n",
       "\n",
       "    .dataframe tbody tr th {\n",
       "        vertical-align: top;\n",
       "    }\n",
       "\n",
       "    .dataframe thead th {\n",
       "        text-align: right;\n",
       "    }\n",
       "</style>\n",
       "<table border=\"1\" class=\"dataframe\">\n",
       "  <thead>\n",
       "    <tr style=\"text-align: right;\">\n",
       "      <th></th>\n",
       "      <th>0</th>\n",
       "      <th>1</th>\n",
       "      <th>2</th>\n",
       "    </tr>\n",
       "  </thead>\n",
       "  <tbody>\n",
       "    <tr>\n",
       "      <th>0</th>\n",
       "      <td>강소기업</td>\n",
       "      <td>C#</td>\n",
       "      <td>9</td>\n",
       "    </tr>\n",
       "    <tr>\n",
       "      <th>1</th>\n",
       "      <td>강소기업</td>\n",
       "      <td>C++</td>\n",
       "      <td>6</td>\n",
       "    </tr>\n",
       "    <tr>\n",
       "      <th>2</th>\n",
       "      <td>강소기업</td>\n",
       "      <td>C</td>\n",
       "      <td>6</td>\n",
       "    </tr>\n",
       "  </tbody>\n",
       "</table>\n",
       "</div>"
      ],
      "text/plain": [
       "      0    1  2\n",
       "0  강소기업   C#  9\n",
       "1  강소기업  C++  6\n",
       "2  강소기업    C  6"
      ]
     },
     "execution_count": 8,
     "metadata": {},
     "output_type": "execute_result"
    }
   ],
   "source": [
    "strong_cursor = remote.cursor(buffered=True)\n",
    "strong_cursor.execute(\"\"\"\n",
    "               \n",
    "    SELECT type, tech_name, count(tech_name) cnt from\n",
    "(select type, re.recruit_id, tech_name\n",
    "from tech_info te, essential_tech es, recruit_info re, company_info co, comp_type ct\n",
    "where es.recruit_id = re.recruit_id and\n",
    "es.tech_id = te.tech_id and\n",
    "re.comp_name_id = comp_id and\n",
    "ct.comp_type_id = co.comp_type_id) i\n",
    "GROUP by type, tech_name\n",
    "HAVING type = '강소기업'\n",
    "ORDER BY cnt DESC \n",
    "limit 3\n",
    "\n",
    "\"\"\")\n",
    "strong_result = strong_cursor.fetchall()\n",
    "\n",
    "strong_df = pd.DataFrame(strong_result)\n",
    "\n",
    "# df.columns = [\"경력\", \"평균연봉(만)\"]\n",
    "\n",
    "strong_df"
   ]
  },
  {
   "cell_type": "code",
   "execution_count": 19,
   "metadata": {},
   "outputs": [],
   "source": [
    "strong_df.columns = [\"기업분류\", \"기술\", \"수\"]"
   ]
  },
  {
   "cell_type": "code",
   "execution_count": 21,
   "metadata": {},
   "outputs": [
    {
     "data": {
      "image/png": "[encoded data removed]",
      "text/plain": [
       "<Figure size 640x480 with 1 Axes>"
      ]
     },
     "metadata": {},
     "output_type": "display_data"
    }
   ],
   "source": [
    "labels = strong_df[\"기술\"]\n",
    "sizes = strong_df[\"수\"]\n",
    "colors = ['#ff9999', '#ffc000', '#8fd9b6', '#d395d0', '#2E7B26'][:len(labels)]  # 색상 지정\n",
    "\n",
    "# 도넛 파이 차트 생성\n",
    "fig, ax = plt.subplots()\n",
    "ax.pie(sizes, labels=labels, colors=colors, startangle=90, autopct='%1.1f%%', pctdistance=0.85)\n",
    "\n",
    "# 도넛 중앙에 빈 공간 추가\n",
    "centre_circle = plt.Circle((0, 0), 0.70, fc='white')\n",
    "fig.gca().add_artist(centre_circle)\n",
    "\n",
    "# 제목 추가\n",
    "ax.set_title(\"강소기업\")\n",
    "\n",
    "# 레이아웃 조정\n",
    "plt.tight_layout()\n",
    "plt.show()\n"
   ]
  },
  {
   "cell_type": "markdown",
   "metadata": {},
   "source": [
    "# 중견기업"
   ]
  },
  {
   "cell_type": "code",
   "execution_count": 9,
   "metadata": {},
   "outputs": [
    {
     "data": {
      "text/html": [
       "<div>\n",
       "<style scoped>\n",
       "    .dataframe tbody tr th:only-of-type {\n",
       "        vertical-align: middle;\n",
       "    }\n",
       "\n",
       "    .dataframe tbody tr th {\n",
       "        vertical-align: top;\n",
       "    }\n",
       "\n",
       "    .dataframe thead th {\n",
       "        text-align: right;\n",
       "    }\n",
       "</style>\n",
       "<table border=\"1\" class=\"dataframe\">\n",
       "  <thead>\n",
       "    <tr style=\"text-align: right;\">\n",
       "      <th></th>\n",
       "      <th>0</th>\n",
       "      <th>1</th>\n",
       "      <th>2</th>\n",
       "    </tr>\n",
       "  </thead>\n",
       "  <tbody>\n",
       "    <tr>\n",
       "      <th>0</th>\n",
       "      <td>중견기업</td>\n",
       "      <td>C++</td>\n",
       "      <td>7</td>\n",
       "    </tr>\n",
       "    <tr>\n",
       "      <th>1</th>\n",
       "      <td>중견기업</td>\n",
       "      <td>C</td>\n",
       "      <td>5</td>\n",
       "    </tr>\n",
       "    <tr>\n",
       "      <th>2</th>\n",
       "      <td>중견기업</td>\n",
       "      <td>Python</td>\n",
       "      <td>4</td>\n",
       "    </tr>\n",
       "  </tbody>\n",
       "</table>\n",
       "</div>"
      ],
      "text/plain": [
       "      0       1  2\n",
       "0  중견기업     C++  7\n",
       "1  중견기업       C  5\n",
       "2  중견기업  Python  4"
      ]
     },
     "execution_count": 9,
     "metadata": {},
     "output_type": "execute_result"
    }
   ],
   "source": [
    "middle_cursor = remote.cursor(buffered=True)\n",
    "middle_cursor.execute(\"\"\"\n",
    "               \n",
    "    SELECT type, tech_name, count(tech_name) cnt from\n",
    "(select type, re.recruit_id, tech_name\n",
    "from tech_info te, essential_tech es, recruit_info re, company_info co, comp_type ct\n",
    "where es.recruit_id = re.recruit_id and\n",
    "es.tech_id = te.tech_id and\n",
    "re.comp_name_id = comp_id and\n",
    "ct.comp_type_id = co.comp_type_id) i\n",
    "GROUP by type, tech_name\n",
    "HAVING type = '중견기업'\n",
    "ORDER BY cnt DESC \n",
    "limit 3\n",
    "\n",
    "\"\"\")\n",
    "middle_result = middle_cursor.fetchall()\n",
    "\n",
    "middle_df = pd.DataFrame(middle_result)\n",
    "\n",
    "# df.columns = [\"경력\", \"평균연봉(만)\"]\n",
    "\n",
    "middle_df"
   ]
  },
  {
   "cell_type": "code",
   "execution_count": 16,
   "metadata": {},
   "outputs": [],
   "source": [
    "middle_df.columns = [\"기업분류\", \"기술\", \"수\"]"
   ]
  },
  {
   "cell_type": "code",
   "execution_count": 18,
   "metadata": {},
   "outputs": [
    {
     "data": {
      "image/png": "[encoded data removed]",
      "text/plain": [
       "<Figure size 640x480 with 1 Axes>"
      ]
     },
     "metadata": {},
     "output_type": "display_data"
    }
   ],
   "source": [
    "labels = middle_df[\"기술\"]\n",
    "sizes = middle_df[\"수\"]\n",
    "colors = ['#ff9999', '#ffc000', '#8fd9b6', '#d395d0', '#2E7B26'][:len(labels)]  # 색상 지정\n",
    "\n",
    "# 도넛 파이 차트 생성\n",
    "fig, ax = plt.subplots()\n",
    "ax.pie(sizes, labels=labels, colors=colors, startangle=90, autopct='%1.1f%%', pctdistance=0.85)\n",
    "\n",
    "# 도넛 중앙에 빈 공간 추가\n",
    "centre_circle = plt.Circle((0, 0), 0.70, fc='white')\n",
    "fig.gca().add_artist(centre_circle)\n",
    "\n",
    "# 제목 추가\n",
    "ax.set_title(\"중견기업\")\n",
    "\n",
    "# 레이아웃 조정\n",
    "plt.tight_layout()\n",
    "plt.show()\n"
   ]
  },
  {
   "cell_type": "markdown",
   "metadata": {},
   "source": [
    "# 대기업"
   ]
  },
  {
   "cell_type": "code",
   "execution_count": 10,
   "metadata": {},
   "outputs": [
    {
     "data": {
      "text/html": [
       "<div>\n",
       "<style scoped>\n",
       "    .dataframe tbody tr th:only-of-type {\n",
       "        vertical-align: middle;\n",
       "    }\n",
       "\n",
       "    .dataframe tbody tr th {\n",
       "        vertical-align: top;\n",
       "    }\n",
       "\n",
       "    .dataframe thead th {\n",
       "        text-align: right;\n",
       "    }\n",
       "</style>\n",
       "<table border=\"1\" class=\"dataframe\">\n",
       "  <thead>\n",
       "    <tr style=\"text-align: right;\">\n",
       "      <th></th>\n",
       "      <th>0</th>\n",
       "      <th>1</th>\n",
       "      <th>2</th>\n",
       "    </tr>\n",
       "  </thead>\n",
       "  <tbody>\n",
       "    <tr>\n",
       "      <th>0</th>\n",
       "      <td>대기업</td>\n",
       "      <td>C#</td>\n",
       "      <td>2</td>\n",
       "    </tr>\n",
       "    <tr>\n",
       "      <th>1</th>\n",
       "      <td>대기업</td>\n",
       "      <td>MCU</td>\n",
       "      <td>1</td>\n",
       "    </tr>\n",
       "    <tr>\n",
       "      <th>2</th>\n",
       "      <td>대기업</td>\n",
       "      <td>C</td>\n",
       "      <td>1</td>\n",
       "    </tr>\n",
       "  </tbody>\n",
       "</table>\n",
       "</div>"
      ],
      "text/plain": [
       "     0    1  2\n",
       "0  대기업   C#  2\n",
       "1  대기업  MCU  1\n",
       "2  대기업    C  1"
      ]
     },
     "execution_count": 10,
     "metadata": {},
     "output_type": "execute_result"
    }
   ],
   "source": [
    "cursor = remote.cursor(buffered=True)\n",
    "cursor.execute(\"\"\"\n",
    "               \n",
    "    SELECT type, tech_name, count(tech_name) cnt from\n",
    "(select type, re.recruit_id, tech_name\n",
    "from tech_info te, essential_tech es, recruit_info re, company_info co, comp_type ct\n",
    "where es.recruit_id = re.recruit_id and\n",
    "es.tech_id = te.tech_id and\n",
    "re.comp_name_id = comp_id and\n",
    "ct.comp_type_id = co.comp_type_id) i\n",
    "GROUP by type, tech_name\n",
    "HAVING type = '대기업'\n",
    "ORDER BY cnt DESC \n",
    "limit 3\n",
    "\n",
    "\"\"\")\n",
    "result = cursor.fetchall()\n",
    "\n",
    "df = pd.DataFrame(result)\n",
    "\n",
    "# df.columns = [\"경력\", \"평균연봉(만)\"]\n",
    "\n",
    "df"
   ]
  },
  {
   "cell_type": "code",
   "execution_count": 11,
   "metadata": {},
   "outputs": [],
   "source": [
    "df.columns=[\"기업분류\", \"기술\", \"수\"]\n",
    "\n"
   ]
  },
  {
   "cell_type": "code",
   "execution_count": 15,
   "metadata": {},
   "outputs": [
    {
     "data": {
      "image/png": "[encoded data removed]",
      "text/plain": [
       "<Figure size 640x480 with 1 Axes>"
      ]
     },
     "metadata": {},
     "output_type": "display_data"
    }
   ],
   "source": [
    "import matplotlib.pyplot as plt\n",
    "\n",
    "# 기업 분류별 기술 수 합계를 계산\n",
    "\n",
    "labels = df[\"기술\"]\n",
    "sizes = df[\"수\"]\n",
    "colors = ['#ff9999', '#ffc000', '#8fd9b6', '#d395d0', '#2E7B26'][:len(labels)]  # 색상 지정\n",
    "\n",
    "# 도넛 파이 차트 생성\n",
    "fig, ax = plt.subplots()\n",
    "ax.pie(sizes, labels=labels, colors=colors, startangle=90, autopct='%1.1f%%', pctdistance=0.85)\n",
    "\n",
    "# 도넛 중앙에 빈 공간 추가\n",
    "centre_circle = plt.Circle((0, 0), 0.70, fc='white')\n",
    "fig.gca().add_artist(centre_circle)\n",
    "\n",
    "# 제목 추가\n",
    "ax.set_title(\"대기업\")\n",
    "\n",
    "# 레이아웃 조정\n",
    "plt.tight_layout()\n",
    "plt.show()\n"
   ]
  }
 ],
 "metadata": {
  "kernelspec": {
   "display_name": "eda_venv",
   "language": "python",
   "name": "python3"
  },
  "language_info": {
   "codemirror_mode": {
    "name": "ipython",
    "version": 3
   },
   "file_extension": ".py",
   "mimetype": "text/x-python",
   "name": "python",
   "nbconvert_exporter": "python",
   "pygments_lexer": "ipython3",
   "version": "3.10.12"
  }
 },
 "nbformat": 4,
 "nbformat_minor": 2
}
